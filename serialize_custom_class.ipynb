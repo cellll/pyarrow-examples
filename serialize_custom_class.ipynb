{
 "cells": [
  {
   "cell_type": "code",
   "execution_count": 1,
   "metadata": {},
   "outputs": [],
   "source": [
    "import pyarrow as pa\n",
    "import pyarrow.plasma as plasma\n",
    "\n",
    "import numpy as np\n",
    "import cv2\n",
    "import os"
   ]
  },
  {
   "cell_type": "code",
   "execution_count": 3,
   "metadata": {},
   "outputs": [],
   "source": [
    "class CustomClass:\n",
    "    def __init__(self, var1, var2, var3):\n",
    "        self.var1 = var1\n",
    "        self.var2 = var2\n",
    "        self.var3 = var3"
   ]
  },
  {
   "cell_type": "code",
   "execution_count": 13,
   "metadata": {},
   "outputs": [
    {
     "data": {
      "text/plain": [
       "{}"
      ]
     },
     "execution_count": 13,
     "metadata": {},
     "output_type": "execute_result"
    }
   ],
   "source": [
    "plasma_store_path = '/tmp/plasma_store'\n",
    "client = plasma.connect(plasma_store_path)\n",
    "client.list()"
   ]
  },
  {
   "cell_type": "markdown",
   "metadata": {},
   "source": [
    "## Custom Data Types를 직렬화 하려면 context를 지정해 주어야 함"
   ]
  },
  {
   "cell_type": "markdown",
   "metadata": {},
   "source": [
    "### 일반적인 경우"
   ]
  },
  {
   "cell_type": "code",
   "execution_count": 14,
   "metadata": {},
   "outputs": [],
   "source": [
    "cc = CustomClass(1, 'a', 0.5)"
   ]
  },
  {
   "cell_type": "code",
   "execution_count": 16,
   "metadata": {},
   "outputs": [],
   "source": [
    "def _serialize_cc(data): # 직렬화 시 이 method를 실행하여 CustomClass 를 dictionary 형식으로 변환해 주도록 함 \n",
    "    return {'var1': data.var1,\n",
    "            'var2': data.var2,\n",
    "            'var3': data.var3}\n",
    "\n",
    "def _deserialize_cc(data): # 역직렬화 시 dictionary로 변환된 CustomClass를 다시 CustomClass 형식으로 변환해 주도록 함 \n",
    "    return CustomClass(data['var1'], data['var2'], data['var3'])\n",
    "    "
   ]
  },
  {
   "cell_type": "code",
   "execution_count": 19,
   "metadata": {},
   "outputs": [],
   "source": [
    "cc_ctx = pa.SerializationContext() # serialization context 생성, 위에 만든 직렬화, 역직렬화 시 수행할 함수를 등록해 줌\n",
    "cc_ctx.register_type(CustomClass, 'example', \n",
    "                     custom_serializer=_serialize_cc,\n",
    "                     custom_deserializer=_deserialize_cc)"
   ]
  },
  {
   "cell_type": "code",
   "execution_count": 17,
   "metadata": {},
   "outputs": [
    {
     "ename": "SerializationCallbackError",
     "evalue": "pyarrow does not know how to serialize objects of type <class '__main__.CustomClass'>.",
     "output_type": "error",
     "traceback": [
      "\u001b[0;31m---------------------------------------------------------------------------\u001b[0m",
      "\u001b[0;31mSerializationCallbackError\u001b[0m                Traceback (most recent call last)",
      "\u001b[0;32m<ipython-input-17-d43b79cba077>\u001b[0m in \u001b[0;36m<module>\u001b[0;34m\u001b[0m\n\u001b[0;32m----> 1\u001b[0;31m \u001b[0mserialized_cc_buf\u001b[0m \u001b[0;34m=\u001b[0m \u001b[0mpa\u001b[0m\u001b[0;34m.\u001b[0m\u001b[0mserialize\u001b[0m\u001b[0;34m(\u001b[0m\u001b[0mcc\u001b[0m\u001b[0;34m)\u001b[0m\u001b[0;34m.\u001b[0m\u001b[0mto_buffer\u001b[0m\u001b[0;34m(\u001b[0m\u001b[0;34m)\u001b[0m \u001b[0;31m# 오류 발생 : CustomClass 형식을 직렬화할때 사용할 context 지정 필요\u001b[0m\u001b[0;34m\u001b[0m\u001b[0;34m\u001b[0m\u001b[0m\n\u001b[0m",
      "\u001b[0;32m/usr/local/lib/python3.6/dist-packages/pyarrow/serialization.pxi\u001b[0m in \u001b[0;36mpyarrow.lib.serialize\u001b[0;34m()\u001b[0m\n",
      "\u001b[0;32m/usr/local/lib/python3.6/dist-packages/pyarrow/serialization.pxi\u001b[0m in \u001b[0;36mpyarrow.lib.SerializationContext._serialize_callback\u001b[0;34m()\u001b[0m\n",
      "\u001b[0;31mSerializationCallbackError\u001b[0m: pyarrow does not know how to serialize objects of type <class '__main__.CustomClass'>."
     ]
    }
   ],
   "source": [
    "serialized_cc_buf = pa.serialize(cc).to_buffer() # 오류 발생 : CustomClass 형식을 직렬화할때 사용할 context 지정 필요"
   ]
  },
  {
   "cell_type": "code",
   "execution_count": 25,
   "metadata": {},
   "outputs": [
    {
     "data": {
      "text/plain": [
       "{ObjectID(6161616161616161616161616161616161616161): {'data_size': 2568,\n",
       "  'metadata_size': 0,\n",
       "  'ref_count': 0,\n",
       "  'create_time': 1595834318,\n",
       "  'construct_duration': 0,\n",
       "  'state': 'sealed'}}"
      ]
     },
     "execution_count": 25,
     "metadata": {},
     "output_type": "execute_result"
    }
   ],
   "source": [
    "serialized_cc_buf = pa.serialize(cc, context=cc_ctx).to_buffer() # 성공 \n",
    "object_id = plasma.ObjectID(b'a'*20)\n",
    "client.put(serialized_cc_buf, object_id)\n",
    "client.list()"
   ]
  },
  {
   "cell_type": "code",
   "execution_count": 36,
   "metadata": {},
   "outputs": [
    {
     "data": {
      "text/plain": [
       "{'var1': 1, 'var2': 'a', 'var3': 0.5}"
      ]
     },
     "execution_count": 36,
     "metadata": {},
     "output_type": "execute_result"
    }
   ],
   "source": [
    "[serialized_cc_object] = client.get([object_id]) # get\n",
    "deserialized_cc_object = pa.deserialize(serialized_cc_object.to_pybytes(), context=cc_ctx) # 역직렬화 context 지정, 역직렬화 시 직렬화된 object에 to_pybytes()를 사용해야 추후 del을 통해 ref 해제 가능\n",
    "deserialized_cc_object.__dict__ "
   ]
  },
  {
   "cell_type": "code",
   "execution_count": 37,
   "metadata": {},
   "outputs": [
    {
     "data": {
      "text/plain": [
       "{}"
      ]
     },
     "execution_count": 37,
     "metadata": {},
     "output_type": "execute_result"
    }
   ],
   "source": [
    "del(serialized_cc_object)\n",
    "client.delete([object_id])\n",
    "client.list()"
   ]
  },
  {
   "cell_type": "code",
   "execution_count": null,
   "metadata": {},
   "outputs": [],
   "source": []
  },
  {
   "cell_type": "markdown",
   "metadata": {},
   "source": [
    "### Class 변수에 object id를 넣는 경우 "
   ]
  },
  {
   "cell_type": "code",
   "execution_count": 46,
   "metadata": {},
   "outputs": [],
   "source": [
    "object_id_var = plasma.ObjectID(b'b'*20)\n",
    "cc_obj_id = CustomClass(1, 'a', object_id_var)"
   ]
  },
  {
   "cell_type": "code",
   "execution_count": 61,
   "metadata": {},
   "outputs": [
    {
     "ename": "SerializationCallbackError",
     "evalue": "pyarrow does not know how to serialize objects of type <class 'pyarrow._plasma.ObjectID'>.",
     "output_type": "error",
     "traceback": [
      "\u001b[0;31m---------------------------------------------------------------------------\u001b[0m",
      "\u001b[0;31mSerializationCallbackError\u001b[0m                Traceback (most recent call last)",
      "\u001b[0;32m<ipython-input-61-c4fdf872a24a>\u001b[0m in \u001b[0;36m<module>\u001b[0;34m\u001b[0m\n\u001b[0;32m----> 1\u001b[0;31m \u001b[0mserialized_cc_buf\u001b[0m \u001b[0;34m=\u001b[0m \u001b[0mpa\u001b[0m\u001b[0;34m.\u001b[0m\u001b[0mserialize\u001b[0m\u001b[0;34m(\u001b[0m\u001b[0mcc_obj_id\u001b[0m\u001b[0;34m,\u001b[0m \u001b[0mcontext\u001b[0m\u001b[0;34m=\u001b[0m\u001b[0mcc_ctx\u001b[0m\u001b[0;34m)\u001b[0m\u001b[0;34m.\u001b[0m\u001b[0mto_buffer\u001b[0m\u001b[0;34m(\u001b[0m\u001b[0;34m)\u001b[0m \u001b[0;31m# 실패 : plasma.ObjectID 타입의 object를 직렬화 하는 방법을 모름 -> 지정해 주어야 함\u001b[0m\u001b[0;34m\u001b[0m\u001b[0;34m\u001b[0m\u001b[0m\n\u001b[0m",
      "\u001b[0;32m/usr/local/lib/python3.6/dist-packages/pyarrow/serialization.pxi\u001b[0m in \u001b[0;36mpyarrow.lib.serialize\u001b[0;34m()\u001b[0m\n",
      "\u001b[0;32m/usr/local/lib/python3.6/dist-packages/pyarrow/serialization.pxi\u001b[0m in \u001b[0;36mpyarrow.lib.SerializationContext._serialize_callback\u001b[0;34m()\u001b[0m\n",
      "\u001b[0;31mSerializationCallbackError\u001b[0m: pyarrow does not know how to serialize objects of type <class 'pyarrow._plasma.ObjectID'>."
     ]
    }
   ],
   "source": [
    "serialized_cc_buf = pa.serialize(cc_obj_id, context=cc_ctx).to_buffer() # 실패 : plasma.ObjectID 타입의 object를 직렬화 하는 방법을 모름 -> 지정해 주어야 함 "
   ]
  },
  {
   "cell_type": "code",
   "execution_count": 63,
   "metadata": {},
   "outputs": [],
   "source": [
    "def _serialize_cc_obj_id(data): \n",
    "    return {'var1': data.var1,\n",
    "            'var2': data.var2,\n",
    "            'var3': data.var3.binary()} # plasma.ObjectID의 경우 .binary() 함수를 이용\n",
    "\n",
    "def _deserialize_cc_obj_id(data): \n",
    "    return CustomClass(data['var1'], data['var2'], \n",
    "                       plasma.ObjectID(data['var3'])) # 다시 ObjectID 형식으로 변환\n",
    "\n",
    "cc_obj_id_ctx = pa.SerializationContext() # serialization context 생성, 위에 만든 직렬화, 역직렬화 시 수행할 함수를 등록해 줌\n",
    "cc_obj_id_ctx.register_type(CustomClass, 'example2', \n",
    "                     custom_serializer=_serialize_cc_obj_id,\n",
    "                     custom_deserializer=_deserialize_cc_obj_id)"
   ]
  },
  {
   "cell_type": "code",
   "execution_count": 69,
   "metadata": {},
   "outputs": [
    {
     "data": {
      "text/plain": [
       "{ObjectID(46d55d4bb0251d8540ae9faca1554a80ec609df7): {'data_size': 2568,\n",
       "  'metadata_size': 0,\n",
       "  'ref_count': 0,\n",
       "  'create_time': 1595834880,\n",
       "  'construct_duration': 0,\n",
       "  'state': 'sealed'}}"
      ]
     },
     "execution_count": 69,
     "metadata": {},
     "output_type": "execute_result"
    }
   ],
   "source": [
    "serialized_cc_buf = pa.serialize(cc_obj_id, context=cc_obj_id_ctx).to_buffer() # 성공 \n",
    "object_id = client.put(serialized_cc_buf)\n",
    "client.list()"
   ]
  },
  {
   "cell_type": "code",
   "execution_count": 70,
   "metadata": {},
   "outputs": [
    {
     "data": {
      "text/plain": [
       "{'var1': 1,\n",
       " 'var2': 'a',\n",
       " 'var3': ObjectID(6262626262626262626262626262626262626262)}"
      ]
     },
     "execution_count": 70,
     "metadata": {},
     "output_type": "execute_result"
    }
   ],
   "source": [
    "[serialized_cc_obj_id_object] = client.get([object_id])\n",
    "deserialized_cc_obj_id_object = pa.deserialize(serialized_cc_obj_id_object.to_pybytes(), context=cc_obj_id_ctx)\n",
    "deserialized_cc_obj_id_object.__dict__ # var3이 plasma.ObjectID 형식으로 변환되어 역직렬화 된 것 확인 "
   ]
  },
  {
   "cell_type": "code",
   "execution_count": 72,
   "metadata": {},
   "outputs": [
    {
     "data": {
      "text/plain": [
       "{}"
      ]
     },
     "execution_count": 72,
     "metadata": {},
     "output_type": "execute_result"
    }
   ],
   "source": [
    "del (serialized_cc_obj_id_object) # clear\n",
    "client.delete([object_id])\n",
    "client.list()"
   ]
  },
  {
   "cell_type": "markdown",
   "metadata": {},
   "source": [
    "## 직렬화/역직렬화 되는 데이터에 포함되는 데이터는 항상 binary 형식으로 변환 되어야 하는 듯 하다\n",
    "##  pyarrow가 모르는 데이터 타입의 경우에는 수동으로 custom serializer/deserializer -> SerializationContext를 등록해 주어야 함 "
   ]
  }
 ],
 "metadata": {
  "kernelspec": {
   "display_name": "Python 3",
   "language": "python",
   "name": "python3"
  },
  "language_info": {
   "codemirror_mode": {
    "name": "ipython",
    "version": 3
   },
   "file_extension": ".py",
   "mimetype": "text/x-python",
   "name": "python",
   "nbconvert_exporter": "python",
   "pygments_lexer": "ipython3",
   "version": "3.6.9"
  }
 },
 "nbformat": 4,
 "nbformat_minor": 4
}
